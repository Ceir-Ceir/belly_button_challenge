{
 "cells": [
  {
   "cell_type": "code",
   "execution_count": 33,
   "id": "f27295e1",
   "metadata": {},
   "outputs": [
    {
     "name": "stdout",
     "output_type": "stream",
     "text": [
      "dict_keys(['names', 'metadata', 'samples'])\n"
     ]
    }
   ],
   "source": [
    "import json\n",
    "import pandas as pd\n",
    "import requests\n",
    "import matplotlib.pyplot as plt\n",
    "import seaborn as sns\n",
    "import plotly.express as px\n",
    "\n",
    "url = 'https://2u-data-curriculum-team.s3.amazonaws.com/dataviz-classroom/v1.1/14-Interactive-Web-Visualizations/02-Homework/samples.json'\n",
    "data = requests.get(url).json()\n",
    "\n",
    "# Inspect the data structure\n",
    "print(data.keys())\n"
   ]
  },
  {
   "cell_type": "code",
   "execution_count": 34,
   "id": "36ea2724",
   "metadata": {},
   "outputs": [
    {
     "name": "stdout",
     "output_type": "stream",
     "text": [
      "names: <class 'list'>\n",
      "metadata: <class 'list'>\n",
      "samples: <class 'list'>\n",
      "{'id': '940', 'otu_ids': [1167, 2859, 482, 2264, 41, 1189, 352, 189, 2318, 1977, 3450, 874, 1959, 2191, 1950, 2077, 2275, 944, 2184, 2244, 2024, 2419, 2811, 165, 2782, 2247, 2011, 2396, 830, 2964, 1795, 2722, 307, 2178, 2908, 1193, 2167, 1208, 2039, 1274, 2739, 2737, 1314, 1962, 2186, 2335, 2936, 907, 833, 2483, 2475, 2491, 2291, 159, 2571, 2350, 2342, 2546, 725, 170, 1505, 513, 259, 1169, 258, 1232, 1497, 1498, 1503, 412, 2235, 1960, 1968, 121, 2065, 340, 2110, 2188, 357, 342], 'sample_values': [163, 126, 113, 78, 71, 51, 50, 47, 40, 40, 37, 36, 30, 28, 25, 23, 22, 19, 19, 14, 13, 13, 13, 12, 12, 11, 11, 11, 10, 10, 10, 8, 7, 7, 7, 6, 5, 5, 5, 4, 4, 4, 3, 3, 3, 3, 3, 3, 3, 2, 2, 2, 2, 2, 2, 2, 2, 2, 2, 2, 2, 2, 2, 2, 2, 2, 2, 2, 2, 2, 2, 2, 2, 2, 2, 2, 2, 2, 2, 2], 'otu_labels': ['Bacteria;Bacteroidetes;Bacteroidia;Bacteroidales;Porphyromonadaceae;Porphyromonas', 'Bacteria;Firmicutes;Clostridia;Clostridiales;IncertaeSedisXI;Peptoniphilus', 'Bacteria', 'Bacteria;Firmicutes;Clostridia;Clostridiales;IncertaeSedisXI', 'Bacteria', 'Bacteria;Bacteroidetes;Bacteroidia;Bacteroidales;Porphyromonadaceae;Porphyromonas', 'Bacteria', 'Bacteria', 'Bacteria;Firmicutes;Clostridia;Clostridiales;IncertaeSedisXI;Anaerococcus', 'Bacteria;Firmicutes;Clostridia;Clostridiales', 'Bacteria;Proteobacteria;Epsilonproteobacteria;Campylobacterales;Campylobacteraceae;Campylobacter', 'Bacteria;Actinobacteria;Actinobacteria;Actinomycetales;Actinomycetaceae;Varibaculum', 'Bacteria;Firmicutes;Clostridia', 'Bacteria;Firmicutes;Clostridia;Clostridiales;IncertaeSedisXI', 'Bacteria;Firmicutes;Clostridia', 'Bacteria;Firmicutes;Clostridia;Clostridiales', 'Bacteria;Firmicutes;Clostridia;Clostridiales;IncertaeSedisXI', 'Bacteria;Actinobacteria;Actinobacteria;Actinomycetales;Corynebacteriaceae;Corynebacterium', 'Bacteria;Firmicutes;Clostridia;Clostridiales;IncertaeSedisXI', 'Bacteria;Firmicutes;Clostridia;Clostridiales;IncertaeSedisXI', 'Bacteria;Firmicutes;Clostridia;Clostridiales', 'Bacteria;Firmicutes;Clostridia;Clostridiales;IncertaeSedisXI;Anaerococcus', 'Bacteria;Firmicutes;Clostridia;Clostridiales;IncertaeSedisXI;Peptoniphilus', 'Bacteria', 'Bacteria;Firmicutes;Clostridia;Clostridiales;IncertaeSedisXI;Peptoniphilus', 'Bacteria;Firmicutes;Clostridia;Clostridiales;IncertaeSedisXI', 'Bacteria;Firmicutes;Clostridia;Clostridiales', 'Bacteria;Firmicutes;Clostridia;Clostridiales;IncertaeSedisXI;Anaerococcus', 'Bacteria;Actinobacteria;Actinobacteria;Actinomycetales', 'Bacteria;Firmicutes;Clostridia;Clostridiales;Veillonellaceae', 'Bacteria;Firmicutes;Bacilli;Bacillales;Staphylococcaceae;Staphylococcus', 'Bacteria;Firmicutes;Clostridia;Clostridiales;IncertaeSedisXI;Finegoldia', 'Bacteria', 'Bacteria;Firmicutes;Clostridia;Clostridiales', 'Bacteria;Firmicutes;Clostridia;Clostridiales;Peptococcaceae;Peptococcus', 'Bacteria;Bacteroidetes;Bacteroidia;Bacteroidales;Porphyromonadaceae;Porphyromonas', 'Bacteria;Firmicutes;Clostridia;Clostridiales', 'Bacteria;Bacteroidetes;Bacteroidia;Bacteroidales;Porphyromonadaceae;Porphyromonas', 'Bacteria;Firmicutes;Clostridia;Clostridiales', 'Bacteria;Bacteroidetes;Bacteroidia;Bacteroidales;Prevotellaceae', 'Bacteria;Firmicutes;Clostridia;Clostridiales;IncertaeSedisXI;Gallicola', 'Bacteria;Firmicutes;Clostridia;Clostridiales;IncertaeSedisXI;Gallicola', 'Bacteria;Bacteroidetes;Bacteroidia;Bacteroidales;Prevotellaceae;Prevotella', 'Bacteria;Firmicutes;Clostridia', 'Bacteria;Firmicutes;Clostridia;Clostridiales;IncertaeSedisXI', 'Bacteria;Firmicutes;Clostridia;Clostridiales;IncertaeSedisXI;Anaerococcus', 'Bacteria;Firmicutes;Clostridia;Clostridiales;Ruminococcaceae', 'Bacteria;Actinobacteria;Actinobacteria;Actinomycetales;Corynebacteriaceae', 'Bacteria;Actinobacteria;Actinobacteria;Actinomycetales;Actinomycetaceae', 'Bacteria;Firmicutes;Clostridia;Clostridiales;IncertaeSedisXI;Anaerococcus', 'Bacteria;Firmicutes;Clostridia;Clostridiales;IncertaeSedisXI;Anaerococcus', 'Bacteria;Firmicutes;Clostridia;Clostridiales;IncertaeSedisXI;Anaerococcus', 'Bacteria;Firmicutes;Clostridia;Clostridiales;IncertaeSedisXI', 'Bacteria', 'Bacteria;Firmicutes;Clostridia;Clostridiales;IncertaeSedisXI;Anaerococcus', 'Bacteria;Firmicutes;Clostridia;Clostridiales;IncertaeSedisXI;Anaerococcus', 'Bacteria;Firmicutes;Clostridia;Clostridiales;IncertaeSedisXI;Anaerococcus', 'Bacteria;Firmicutes;Clostridia;Clostridiales;IncertaeSedisXI;Anaerococcus', 'Bacteria;Actinobacteria;Actinobacteria;Actinomycetales', 'Bacteria', 'Bacteria;Firmicutes', 'Bacteria', 'Bacteria', 'Bacteria;Bacteroidetes;Bacteroidia;Bacteroidales;Porphyromonadaceae;Porphyromonas', 'Bacteria', 'Bacteria;Bacteroidetes;Bacteroidia;Bacteroidales;Porphyromonadaceae;Porphyromonas', 'Bacteria;Firmicutes', 'Bacteria;Firmicutes', 'Bacteria;Firmicutes', 'Bacteria', 'Bacteria;Firmicutes;Clostridia;Clostridiales;IncertaeSedisXI', 'Bacteria;Firmicutes;Clostridia', 'Bacteria;Firmicutes;Clostridia', 'Bacteria', 'Bacteria;Firmicutes;Clostridia;Clostridiales', 'Bacteria', 'Bacteria;Firmicutes;Clostridia;Clostridiales', 'Bacteria;Firmicutes;Clostridia;Clostridiales;IncertaeSedisXI', 'Bacteria', 'Bacteria']}\n"
     ]
    }
   ],
   "source": [
    "# Print out the keys and explore the types of values associated with them\n",
    "for key in data.keys():\n",
    "    print(f\"{key}: {type(data[key])}\")\n",
    "\n",
    "print(data['samples'][0])\n"
   ]
  },
  {
   "cell_type": "code",
   "execution_count": 35,
   "id": "8d1507d3",
   "metadata": {},
   "outputs": [
    {
     "data": {
      "text/html": [
       "<div>\n",
       "<style scoped>\n",
       "    .dataframe tbody tr th:only-of-type {\n",
       "        vertical-align: middle;\n",
       "    }\n",
       "\n",
       "    .dataframe tbody tr th {\n",
       "        vertical-align: top;\n",
       "    }\n",
       "\n",
       "    .dataframe thead th {\n",
       "        text-align: right;\n",
       "    }\n",
       "</style>\n",
       "<table border=\"1\" class=\"dataframe\">\n",
       "  <thead>\n",
       "    <tr style=\"text-align: right;\">\n",
       "      <th></th>\n",
       "      <th>id</th>\n",
       "      <th>otu_ids</th>\n",
       "      <th>sample_values</th>\n",
       "      <th>otu_labels</th>\n",
       "    </tr>\n",
       "  </thead>\n",
       "  <tbody>\n",
       "    <tr>\n",
       "      <th>0</th>\n",
       "      <td>940</td>\n",
       "      <td>[1167, 2859, 482, 2264, 41, 1189, 352, 189, 23...</td>\n",
       "      <td>[163, 126, 113, 78, 71, 51, 50, 47, 40, 40, 37...</td>\n",
       "      <td>[Bacteria;Bacteroidetes;Bacteroidia;Bacteroida...</td>\n",
       "    </tr>\n",
       "    <tr>\n",
       "      <th>1</th>\n",
       "      <td>941</td>\n",
       "      <td>[2722, 944, 2419, 2539, 3450, 1795, 2389, 1314...</td>\n",
       "      <td>[194, 178, 162, 92, 84, 40, 37, 28, 27, 24, 21...</td>\n",
       "      <td>[Bacteria;Firmicutes;Clostridia;Clostridiales;...</td>\n",
       "    </tr>\n",
       "    <tr>\n",
       "      <th>2</th>\n",
       "      <td>943</td>\n",
       "      <td>[1795]</td>\n",
       "      <td>[2]</td>\n",
       "      <td>[Bacteria;Firmicutes;Bacilli;Bacillales;Staphy...</td>\n",
       "    </tr>\n",
       "    <tr>\n",
       "      <th>3</th>\n",
       "      <td>944</td>\n",
       "      <td>[922, 3555, 943, 1013, 1795, 944, 3368, 923, 1...</td>\n",
       "      <td>[278, 33, 19, 18, 11, 8, 7, 5, 5, 5, 4, 4, 4, ...</td>\n",
       "      <td>[Bacteria;Actinobacteria;Actinobacteria;Actino...</td>\n",
       "    </tr>\n",
       "    <tr>\n",
       "      <th>4</th>\n",
       "      <td>945</td>\n",
       "      <td>[944, 1795, 922, 2419, 2859, 943, 2722, 1167, ...</td>\n",
       "      <td>[274, 141, 129, 110, 40, 37, 35, 32, 26, 20, 1...</td>\n",
       "      <td>[Bacteria;Actinobacteria;Actinobacteria;Actino...</td>\n",
       "    </tr>\n",
       "  </tbody>\n",
       "</table>\n",
       "</div>"
      ],
      "text/plain": [
       "    id                                            otu_ids  \\\n",
       "0  940  [1167, 2859, 482, 2264, 41, 1189, 352, 189, 23...   \n",
       "1  941  [2722, 944, 2419, 2539, 3450, 1795, 2389, 1314...   \n",
       "2  943                                             [1795]   \n",
       "3  944  [922, 3555, 943, 1013, 1795, 944, 3368, 923, 1...   \n",
       "4  945  [944, 1795, 922, 2419, 2859, 943, 2722, 1167, ...   \n",
       "\n",
       "                                       sample_values  \\\n",
       "0  [163, 126, 113, 78, 71, 51, 50, 47, 40, 40, 37...   \n",
       "1  [194, 178, 162, 92, 84, 40, 37, 28, 27, 24, 21...   \n",
       "2                                                [2]   \n",
       "3  [278, 33, 19, 18, 11, 8, 7, 5, 5, 5, 4, 4, 4, ...   \n",
       "4  [274, 141, 129, 110, 40, 37, 35, 32, 26, 20, 1...   \n",
       "\n",
       "                                          otu_labels  \n",
       "0  [Bacteria;Bacteroidetes;Bacteroidia;Bacteroida...  \n",
       "1  [Bacteria;Firmicutes;Clostridia;Clostridiales;...  \n",
       "2  [Bacteria;Firmicutes;Bacilli;Bacillales;Staphy...  \n",
       "3  [Bacteria;Actinobacteria;Actinobacteria;Actino...  \n",
       "4  [Bacteria;Actinobacteria;Actinobacteria;Actino...  "
      ]
     },
     "execution_count": 35,
     "metadata": {},
     "output_type": "execute_result"
    }
   ],
   "source": [
    "# Convert samples to DataFrame\n",
    "samples_df = pd.DataFrame(data['samples'])\n",
    "\n",
    "# Display the first few rows of the dataframe\n",
    "samples_df.head()\n"
   ]
  },
  {
   "cell_type": "code",
   "execution_count": 36,
   "id": "2e1ccaee",
   "metadata": {},
   "outputs": [],
   "source": [
    "sample_data = data['samples'][0]\n",
    "sample_values = sample_data['sample_values'][:10]\n",
    "otu_ids = sample_data['otu_ids'][:10]\n",
    "otu_labels = sample_data['otu_labels'][:10]"
   ]
  },
  {
   "cell_type": "code",
   "execution_count": 37,
   "id": "0b526e26",
   "metadata": {},
   "outputs": [
    {
     "data": {
      "image/png": "[encoded data removed]",
      "text/plain": [
       "<Figure size 1000x600 with 1 Axes>"
      ]
     },
     "metadata": {},
     "output_type": "display_data"
    }
   ],
   "source": [
    "plt.figure(figsize=(10, 6))\n",
    "sns.barplot(x=sample_values, y=['OTU ' + str(id) for id in otu_ids], orient='h')\n",
    "plt.title('Top 10 OTUs Found in Sample ' + sample_data['id'])\n",
    "plt.xlabel('Sample Values')\n",
    "plt.ylabel('OTU IDs')\n",
    "plt.show()"
   ]
  },
  {
   "cell_type": "code",
   "execution_count": 38,
   "id": "62cf755b",
   "metadata": {},
   "outputs": [
    {
     "data": {
      "application/vnd.plotly.v1+json": {
       "config": {
        "plotlyServerURL": "https://plot.ly"
       },
       "data": [
        {
         "hovertemplate": "<b>%{hovertext}</b><br><br>x=%{x}<br>y=%{y}<br>size=%{marker.size}<br>color=%{marker.color}<extra></extra>",
         "hovertext": [
          "Bacteria;Bacteroidetes;Bacteroidia;Bacteroidales;Porphyromonadaceae;Porphyromonas",
          "Bacteria;Firmicutes;Clostridia;Clostridiales;IncertaeSedisXI;Peptoniphilus",
          "Bacteria",
          "Bacteria;Firmicutes;Clostridia;Clostridiales;IncertaeSedisXI",
          "Bacteria",
          "Bacteria;Bacteroidetes;Bacteroidia;Bacteroidales;Porphyromonadaceae;Porphyromonas",
          "Bacteria",
          "Bacteria",
          "Bacteria;Firmicutes;Clostridia;Clostridiales;IncertaeSedisXI;Anaerococcus",
          "Bacteria;Firmicutes;Clostridia;Clostridiales",
          "Bacteria;Proteobacteria;Epsilonproteobacteria;Campylobacterales;Campylobacteraceae;Campylobacter",
          "Bacteria;Actinobacteria;Actinobacteria;Actinomycetales;Actinomycetaceae;Varibaculum",
          "Bacteria;Firmicutes;Clostridia",
          "Bacteria;Firmicutes;Clostridia;Clostridiales;IncertaeSedisXI",
          "Bacteria;Firmicutes;Clostridia",
          "Bacteria;Firmicutes;Clostridia;Clostridiales",
          "Bacteria;Firmicutes;Clostridia;Clostridiales;IncertaeSedisXI",
          "Bacteria;Actinobacteria;Actinobacteria;Actinomycetales;Corynebacteriaceae;Corynebacterium",
          "Bacteria;Firmicutes;Clostridia;Clostridiales;IncertaeSedisXI",
          "Bacteria;Firmicutes;Clostridia;Clostridiales;IncertaeSedisXI",
          "Bacteria;Firmicutes;Clostridia;Clostridiales",
          "Bacteria;Firmicutes;Clostridia;Clostridiales;IncertaeSedisXI;Anaerococcus",
          "Bacteria;Firmicutes;Clostridia;Clostridiales;IncertaeSedisXI;Peptoniphilus",
          "Bacteria",
          "Bacteria;Firmicutes;Clostridia;Clostridiales;IncertaeSedisXI;Peptoniphilus",
          "Bacteria;Firmicutes;Clostridia;Clostridiales;IncertaeSedisXI",
          "Bacteria;Firmicutes;Clostridia;Clostridiales",
          "Bacteria;Firmicutes;Clostridia;Clostridiales;IncertaeSedisXI;Anaerococcus",
          "Bacteria;Actinobacteria;Actinobacteria;Actinomycetales",
          "Bacteria;Firmicutes;Clostridia;Clostridiales;Veillonellaceae",
          "Bacteria;Firmicutes;Bacilli;Bacillales;Staphylococcaceae;Staphylococcus",
          "Bacteria;Firmicutes;Clostridia;Clostridiales;IncertaeSedisXI;Finegoldia",
          "Bacteria",
          "Bacteria;Firmicutes;Clostridia;Clostridiales",
          "Bacteria;Firmicutes;Clostridia;Clostridiales;Peptococcaceae;Peptococcus",
          "Bacteria;Bacteroidetes;Bacteroidia;Bacteroidales;Porphyromonadaceae;Porphyromonas",
          "Bacteria;Firmicutes;Clostridia;Clostridiales",
          "Bacteria;Bacteroidetes;Bacteroidia;Bacteroidales;Porphyromonadaceae;Porphyromonas",
          "Bacteria;Firmicutes;Clostridia;Clostridiales",
          "Bacteria;Bacteroidetes;Bacteroidia;Bacteroidales;Prevotellaceae",
          "Bacteria;Firmicutes;Clostridia;Clostridiales;IncertaeSedisXI;Gallicola",
          "Bacteria;Firmicutes;Clostridia;Clostridiales;IncertaeSedisXI;Gallicola",
          "Bacteria;Bacteroidetes;Bacteroidia;Bacteroidales;Prevotellaceae;Prevotella",
          "Bacteria;Firmicutes;Clostridia",
          "Bacteria;Firmicutes;Clostridia;Clostridiales;IncertaeSedisXI",
          "Bacteria;Firmicutes;Clostridia;Clostridiales;IncertaeSedisXI;Anaerococcus",
          "Bacteria;Firmicutes;Clostridia;Clostridiales;Ruminococcaceae",
          "Bacteria;Actinobacteria;Actinobacteria;Actinomycetales;Corynebacteriaceae",
          "Bacteria;Actinobacteria;Actinobacteria;Actinomycetales;Actinomycetaceae",
          "Bacteria;Firmicutes;Clostridia;Clostridiales;IncertaeSedisXI;Anaerococcus",
          "Bacteria;Firmicutes;Clostridia;Clostridiales;IncertaeSedisXI;Anaerococcus",
          "Bacteria;Firmicutes;Clostridia;Clostridiales;IncertaeSedisXI;Anaerococcus",
          "Bacteria;Firmicutes;Clostridia;Clostridiales;IncertaeSedisXI",
          "Bacteria",
          "Bacteria;Firmicutes;Clostridia;Clostridiales;IncertaeSedisXI;Anaerococcus",
          "Bacteria;Firmicutes;Clostridia;Clostridiales;IncertaeSedisXI;Anaerococcus",
          "Bacteria;Firmicutes;Clostridia;Clostridiales;IncertaeSedisXI;Anaerococcus",
          "Bacteria;Firmicutes;Clostridia;Clostridiales;IncertaeSedisXI;Anaerococcus",
          "Bacteria;Actinobacteria;Actinobacteria;Actinomycetales",
          "Bacteria",
          "Bacteria;Firmicutes",
          "Bacteria",
          "Bacteria",
          "Bacteria;Bacteroidetes;Bacteroidia;Bacteroidales;Porphyromonadaceae;Porphyromonas",
          "Bacteria",
          "Bacteria;Bacteroidetes;Bacteroidia;Bacteroidales;Porphyromonadaceae;Porphyromonas",
          "Bacteria;Firmicutes",
          "Bacteria;Firmicutes",
          "Bacteria;Firmicutes",
          "Bacteria",
          "Bacteria;Firmicutes;Clostridia;Clostridiales;IncertaeSedisXI",
          "Bacteria;Firmicutes;Clostridia",
          "Bacteria;Firmicutes;Clostridia",
          "Bacteria",
          "Bacteria;Firmicutes;Clostridia;Clostridiales",
          "Bacteria",
          "Bacteria;Firmicutes;Clostridia;Clostridiales",
          "Bacteria;Firmicutes;Clostridia;Clostridiales;IncertaeSedisXI",
          "Bacteria",
          "Bacteria"
         ],
         "legendgroup": "",
         "marker": {
          "color": [
           1167,
           2859,
           482,
           2264,
           41,
           1189,
           352,
           189,
           2318,
           1977,
           3450,
           874,
           1959,
           2191,
           1950,
           2077,
           2275,
           944,
           2184,
           2244,
           2024,
           2419,
           2811,
           165,
           2782,
           2247,
           2011,
           2396,
           830,
           2964,
           1795,
           2722,
           307,
           2178,
           2908,
           1193,
           2167,
           1208,
           2039,
           1274,
           2739,
           2737,
           1314,
           1962,
           2186,
           2335,
           2936,
           907,
           833,
           2483,
           2475,
           2491,
           2291,
           159,
           2571,
           2350,
           2342,
           2546,
           725,
           170,
           1505,
           513,
           259,
           1169,
           258,
           1232,
           1497,
           1498,
           1503,
           412,
           2235,
           1960,
           1968,
           121,
           2065,
           340,
           2110,
           2188,
           357,
           342
          ],
          "coloraxis": "coloraxis",
          "size": [
           163,
           126,
           113,
           78,
           71,
           51,
           50,
           47,
           40,
           40,
           37,
           36,
           30,
           28,
           25,
           23,
           22,
           19,
           19,
           14,
           13,
           13,
           13,
           12,
           12,
           11,
           11,
           11,
           10,
           10,
           10,
           8,
           7,
           7,
           7,
           6,
           5,
           5,
           5,
           4,
           4,
           4,
           3,
           3,
           3,
           3,
           3,
           3,
           3,
           2,
           2,
           2,
           2,
           2,
           2,
           2,
           2,
           2,
           2,
           2,
           2,
           2,
           2,
           2,
           2,
           2,
           2,
           2,
           2,
           2,
           2,
           2,
           2,
           2,
           2,
           2,
           2,
           2,
           2,
           2
          ],
          "sizemode": "area",
          "sizeref": 0.04527777777777778,
          "symbol": "circle"
         },
         "mode": "markers",
         "name": "",
         "orientation": "v",
         "showlegend": false,
         "type": "scatter",
         "x": [
          1167,
          2859,
          482,
          2264,
          41,
          1189,
          352,
          189,
          2318,
          1977,
          3450,
          874,
          1959,
          2191,
          1950,
          2077,
          2275,
          944,
          2184,
          2244,
          2024,
          2419,
          2811,
          165,
          2782,
          2247,
          2011,
          2396,
          830,
          2964,
          1795,
          2722,
          307,
          2178,
          2908,
          1193,
          2167,
          1208,
          2039,
          1274,
          2739,
          2737,
          1314,
          1962,
          2186,
          2335,
          2936,
          907,
          833,
          2483,
          2475,
          2491,
          2291,
          159,
          2571,
          2350,
          2342,
          2546,
          725,
          170,
          1505,
          513,
          259,
          1169,
          258,
          1232,
          1497,
          1498,
          1503,
          412,
          2235,
          1960,
          1968,
          121,
          2065,
          340,
          2110,
          2188,
          357,
          342
         ],
         "xaxis": "x",
         "y": [
          163,
          126,
          113,
          78,
          71,
          51,
          50,
          47,
          40,
          40,
          37,
          36,
          30,
          28,
          25,
          23,
          22,
          19,
          19,
          14,
          13,
          13,
          13,
          12,
          12,
          11,
          11,
          11,
          10,
          10,
          10,
          8,
          7,
          7,
          7,
          6,
          5,
          5,
          5,
          4,
          4,
          4,
          3,
          3,
          3,
          3,
          3,
          3,
          3,
          2,
          2,
          2,
          2,
          2,
          2,
          2,
          2,
          2,
          2,
          2,
          2,
          2,
          2,
          2,
          2,
          2,
          2,
          2,
          2,
          2,
          2,
          2,
          2,
          2,
          2,
          2,
          2,
          2,
          2,
          2
         ],
         "yaxis": "y"
        }
       ],
       "layout": {
        "coloraxis": {
         "colorbar": {
          "title": {
           "text": "color"
          }
         },
         "colorscale": [
          [
           0,
           "#0d0887"
          ],
          [
           0.1111111111111111,
           "#46039f"
          ],
          [
           0.2222222222222222,
           "#7201a8"
          ],
          [
           0.3333333333333333,
           "#9c179e"
          ],
          [
           0.4444444444444444,
           "#bd3786"
          ],
          [
           0.5555555555555556,
           "#d8576b"
          ],
          [
           0.6666666666666666,
           "#ed7953"
          ],
          [
           0.7777777777777778,
           "#fb9f3a"
          ],
          [
           0.8888888888888888,
           "#fdca26"
          ],
          [
           1,
           "#f0f921"
          ]
         ]
        },
        "legend": {
         "itemsizing": "constant",
         "tracegroupgap": 0
        },
        "template": {
         "data": {
          "bar": [
           {
            "error_x": {
             "color": "#2a3f5f"
            },
            "error_y": {
             "color": "#2a3f5f"
            },
            "marker": {
             "line": {
              "color": "#E5ECF6",
              "width": 0.5
             },
             "pattern": {
              "fillmode": "overlay",
              "size": 10,
              "solidity": 0.2
             }
            },
            "type": "bar"
           }
          ],
          "barpolar": [
           {
            "marker": {
             "line": {
              "color": "#E5ECF6",
              "width": 0.5
             },
             "pattern": {
              "fillmode": "overlay",
              "size": 10,
              "solidity": 0.2
             }
            },
            "type": "barpolar"
           }
          ],
          "carpet": [
           {
            "aaxis": {
             "endlinecolor": "#2a3f5f",
             "gridcolor": "white",
             "linecolor": "white",
             "minorgridcolor": "white",
             "startlinecolor": "#2a3f5f"
            },
            "baxis": {
             "endlinecolor": "#2a3f5f",
             "gridcolor": "white",
             "linecolor": "white",
             "minorgridcolor": "white",
             "startlinecolor": "#2a3f5f"
            },
            "type": "carpet"
           }
          ],
          "choropleth": [
           {
            "colorbar": {
             "outlinewidth": 0,
             "ticks": ""
            },
            "type": "choropleth"
           }
          ],
          "contour": [
           {
            "colorbar": {
             "outlinewidth": 0,
             "ticks": ""
            },
            "colorscale": [
             [
              0,
              "#0d0887"
             ],
             [
              0.1111111111111111,
              "#46039f"
             ],
             [
              0.2222222222222222,
              "#7201a8"
             ],
             [
              0.3333333333333333,
              "#9c179e"
             ],
             [
              0.4444444444444444,
              "#bd3786"
             ],
             [
              0.5555555555555556,
              "#d8576b"
             ],
             [
              0.6666666666666666,
              "#ed7953"
             ],
             [
              0.7777777777777778,
              "#fb9f3a"
             ],
             [
              0.8888888888888888,
              "#fdca26"
             ],
             [
              1,
              "#f0f921"
             ]
            ],
            "type": "contour"
           }
          ],
          "contourcarpet": [
           {
            "colorbar": {
             "outlinewidth": 0,
             "ticks": ""
            },
            "type": "contourcarpet"
           }
          ],
          "heatmap": [
           {
            "colorbar": {
             "outlinewidth": 0,
             "ticks": ""
            },
            "colorscale": [
             [
              0,
              "#0d0887"
             ],
             [
              0.1111111111111111,
              "#46039f"
             ],
             [
              0.2222222222222222,
              "#7201a8"
             ],
             [
              0.3333333333333333,
              "#9c179e"
             ],
             [
              0.4444444444444444,
              "#bd3786"
             ],
             [
              0.5555555555555556,
              "#d8576b"
             ],
             [
              0.6666666666666666,
              "#ed7953"
             ],
             [
              0.7777777777777778,
              "#fb9f3a"
             ],
             [
              0.8888888888888888,
              "#fdca26"
             ],
             [
              1,
              "#f0f921"
             ]
            ],
            "type": "heatmap"
           }
          ],
          "heatmapgl": [
           {
            "colorbar": {
             "outlinewidth": 0,
             "ticks": ""
            },
            "colorscale": [
             [
              0,
              "#0d0887"
             ],
             [
              0.1111111111111111,
              "#46039f"
             ],
             [
              0.2222222222222222,
              "#7201a8"
             ],
             [
              0.3333333333333333,
              "#9c179e"
             ],
             [
              0.4444444444444444,
              "#bd3786"
             ],
             [
              0.5555555555555556,
              "#d8576b"
             ],
             [
              0.6666666666666666,
              "#ed7953"
             ],
             [
              0.7777777777777778,
              "#fb9f3a"
             ],
             [
              0.8888888888888888,
              "#fdca26"
             ],
             [
              1,
              "#f0f921"
             ]
            ],
            "type": "heatmapgl"
           }
          ],
          "histogram": [
           {
            "marker": {
             "pattern": {
              "fillmode": "overlay",
              "size": 10,
              "solidity": 0.2
             }
            },
            "type": "histogram"
           }
          ],
          "histogram2d": [
           {
            "colorbar": {
             "outlinewidth": 0,
             "ticks": ""
            },
            "colorscale": [
             [
              0,
              "#0d0887"
             ],
             [
              0.1111111111111111,
              "#46039f"
             ],
             [
              0.2222222222222222,
              "#7201a8"
             ],
             [
              0.3333333333333333,
              "#9c179e"
             ],
             [
              0.4444444444444444,
              "#bd3786"
             ],
             [
              0.5555555555555556,
              "#d8576b"
             ],
             [
              0.6666666666666666,
              "#ed7953"
             ],
             [
              0.7777777777777778,
              "#fb9f3a"
             ],
             [
              0.8888888888888888,
              "#fdca26"
             ],
             [
              1,
              "#f0f921"
             ]
            ],
            "type": "histogram2d"
           }
          ],
          "histogram2dcontour": [
           {
            "colorbar": {
             "outlinewidth": 0,
             "ticks": ""
            },
            "colorscale": [
             [
              0,
              "#0d0887"
             ],
             [
              0.1111111111111111,
              "#46039f"
             ],
             [
              0.2222222222222222,
              "#7201a8"
             ],
             [
              0.3333333333333333,
              "#9c179e"
             ],
             [
              0.4444444444444444,
              "#bd3786"
             ],
             [
              0.5555555555555556,
              "#d8576b"
             ],
             [
              0.6666666666666666,
              "#ed7953"
             ],
             [
              0.7777777777777778,
              "#fb9f3a"
             ],
             [
              0.8888888888888888,
              "#fdca26"
             ],
             [
              1,
              "#f0f921"
             ]
            ],
            "type": "histogram2dcontour"
           }
          ],
          "mesh3d": [
           {
            "colorbar": {
             "outlinewidth": 0,
             "ticks": ""
            },
            "type": "mesh3d"
           }
          ],
          "parcoords": [
           {
            "line": {
             "colorbar": {
              "outlinewidth": 0,
              "ticks": ""
             }
            },
            "type": "parcoords"
           }
          ],
          "pie": [
           {
            "automargin": true,
            "type": "pie"
           }
          ],
          "scatter": [
           {
            "fillpattern": {
             "fillmode": "overlay",
             "size": 10,
             "solidity": 0.2
            },
            "type": "scatter"
           }
          ],
          "scatter3d": [
           {
            "line": {
             "colorbar": {
              "outlinewidth": 0,
              "ticks": ""
             }
            },
            "marker": {
             "colorbar": {
              "outlinewidth": 0,
              "ticks": ""
             }
            },
            "type": "scatter3d"
           }
          ],
          "scattercarpet": [
           {
            "marker": {
             "colorbar": {
              "outlinewidth": 0,
              "ticks": ""
             }
            },
            "type": "scattercarpet"
           }
          ],
          "scattergeo": [
           {
            "marker": {
             "colorbar": {
              "outlinewidth": 0,
              "ticks": ""
             }
            },
            "type": "scattergeo"
           }
          ],
          "scattergl": [
           {
            "marker": {
             "colorbar": {
              "outlinewidth": 0,
              "ticks": ""
             }
            },
            "type": "scattergl"
           }
          ],
          "scattermapbox": [
           {
            "marker": {
             "colorbar": {
              "outlinewidth": 0,
              "ticks": ""
             }
            },
            "type": "scattermapbox"
           }
          ],
          "scatterpolar": [
           {
            "marker": {
             "colorbar": {
              "outlinewidth": 0,
              "ticks": ""
             }
            },
            "type": "scatterpolar"
           }
          ],
          "scatterpolargl": [
           {
            "marker": {
             "colorbar": {
              "outlinewidth": 0,
              "ticks": ""
             }
            },
            "type": "scatterpolargl"
           }
          ],
          "scatterternary": [
           {
            "marker": {
             "colorbar": {
              "outlinewidth": 0,
              "ticks": ""
             }
            },
            "type": "scatterternary"
           }
          ],
          "surface": [
           {
            "colorbar": {
             "outlinewidth": 0,
             "ticks": ""
            },
            "colorscale": [
             [
              0,
              "#0d0887"
             ],
             [
              0.1111111111111111,
              "#46039f"
             ],
             [
              0.2222222222222222,
              "#7201a8"
             ],
             [
              0.3333333333333333,
              "#9c179e"
             ],
             [
              0.4444444444444444,
              "#bd3786"
             ],
             [
              0.5555555555555556,
              "#d8576b"
             ],
             [
              0.6666666666666666,
              "#ed7953"
             ],
             [
              0.7777777777777778,
              "#fb9f3a"
             ],
             [
              0.8888888888888888,
              "#fdca26"
             ],
             [
              1,
              "#f0f921"
             ]
            ],
            "type": "surface"
           }
          ],
          "table": [
           {
            "cells": {
             "fill": {
              "color": "#EBF0F8"
             },
             "line": {
              "color": "white"
             }
            },
            "header": {
             "fill": {
              "color": "#C8D4E3"
             },
             "line": {
              "color": "white"
             }
            },
            "type": "table"
           }
          ]
         },
         "layout": {
          "annotationdefaults": {
           "arrowcolor": "#2a3f5f",
           "arrowhead": 0,
           "arrowwidth": 1
          },
          "autotypenumbers": "strict",
          "coloraxis": {
           "colorbar": {
            "outlinewidth": 0,
            "ticks": ""
           }
          },
          "colorscale": {
           "diverging": [
            [
             0,
             "#8e0152"
            ],
            [
             0.1,
             "#c51b7d"
            ],
            [
             0.2,
             "#de77ae"
            ],
            [
             0.3,
             "#f1b6da"
            ],
            [
             0.4,
             "#fde0ef"
            ],
            [
             0.5,
             "#f7f7f7"
            ],
            [
             0.6,
             "#e6f5d0"
            ],
            [
             0.7,
             "#b8e186"
            ],
            [
             0.8,
             "#7fbc41"
            ],
            [
             0.9,
             "#4d9221"
            ],
            [
             1,
             "#276419"
            ]
           ],
           "sequential": [
            [
             0,
             "#0d0887"
            ],
            [
             0.1111111111111111,
             "#46039f"
            ],
            [
             0.2222222222222222,
             "#7201a8"
            ],
            [
             0.3333333333333333,
             "#9c179e"
            ],
            [
             0.4444444444444444,
             "#bd3786"
            ],
            [
             0.5555555555555556,
             "#d8576b"
            ],
            [
             0.6666666666666666,
             "#ed7953"
            ],
            [
             0.7777777777777778,
             "#fb9f3a"
            ],
            [
             0.8888888888888888,
             "#fdca26"
            ],
            [
             1,
             "#f0f921"
            ]
           ],
           "sequentialminus": [
            [
             0,
             "#0d0887"
            ],
            [
             0.1111111111111111,
             "#46039f"
            ],
            [
             0.2222222222222222,
             "#7201a8"
            ],
            [
             0.3333333333333333,
             "#9c179e"
            ],
            [
             0.4444444444444444,
             "#bd3786"
            ],
            [
             0.5555555555555556,
             "#d8576b"
            ],
            [
             0.6666666666666666,
             "#ed7953"
            ],
            [
             0.7777777777777778,
             "#fb9f3a"
            ],
            [
             0.8888888888888888,
             "#fdca26"
            ],
            [
             1,
             "#f0f921"
            ]
           ]
          },
          "colorway": [
           "#636efa",
           "#EF553B",
           "#00cc96",
           "#ab63fa",
           "#FFA15A",
           "#19d3f3",
           "#FF6692",
           "#B6E880",
           "#FF97FF",
           "#FECB52"
          ],
          "font": {
           "color": "#2a3f5f"
          },
          "geo": {
           "bgcolor": "white",
           "lakecolor": "white",
           "landcolor": "#E5ECF6",
           "showlakes": true,
           "showland": true,
           "subunitcolor": "white"
          },
          "hoverlabel": {
           "align": "left"
          },
          "hovermode": "closest",
          "mapbox": {
           "style": "light"
          },
          "paper_bgcolor": "white",
          "plot_bgcolor": "#E5ECF6",
          "polar": {
           "angularaxis": {
            "gridcolor": "white",
            "linecolor": "white",
            "ticks": ""
           },
           "bgcolor": "#E5ECF6",
           "radialaxis": {
            "gridcolor": "white",
            "linecolor": "white",
            "ticks": ""
           }
          },
          "scene": {
           "xaxis": {
            "backgroundcolor": "#E5ECF6",
            "gridcolor": "white",
            "gridwidth": 2,
            "linecolor": "white",
            "showbackground": true,
            "ticks": "",
            "zerolinecolor": "white"
           },
           "yaxis": {
            "backgroundcolor": "#E5ECF6",
            "gridcolor": "white",
            "gridwidth": 2,
            "linecolor": "white",
            "showbackground": true,
            "ticks": "",
            "zerolinecolor": "white"
           },
           "zaxis": {
            "backgroundcolor": "#E5ECF6",
            "gridcolor": "white",
            "gridwidth": 2,
            "linecolor": "white",
            "showbackground": true,
            "ticks": "",
            "zerolinecolor": "white"
           }
          },
          "shapedefaults": {
           "line": {
            "color": "#2a3f5f"
           }
          },
          "ternary": {
           "aaxis": {
            "gridcolor": "white",
            "linecolor": "white",
            "ticks": ""
           },
           "baxis": {
            "gridcolor": "white",
            "linecolor": "white",
            "ticks": ""
           },
           "bgcolor": "#E5ECF6",
           "caxis": {
            "gridcolor": "white",
            "linecolor": "white",
            "ticks": ""
           }
          },
          "title": {
           "x": 0.05
          },
          "xaxis": {
           "automargin": true,
           "gridcolor": "white",
           "linecolor": "white",
           "ticks": "",
           "title": {
            "standoff": 15
           },
           "zerolinecolor": "white",
           "zerolinewidth": 2
          },
          "yaxis": {
           "automargin": true,
           "gridcolor": "white",
           "linecolor": "white",
           "ticks": "",
           "title": {
            "standoff": 15
           },
           "zerolinecolor": "white",
           "zerolinewidth": 2
          }
         }
        },
        "title": {
         "text": "Bubble Chart for Sample 940"
        },
        "xaxis": {
         "anchor": "y",
         "domain": [
          0,
          1
         ],
         "title": {
          "text": "OTU ID"
         }
        },
        "yaxis": {
         "anchor": "x",
         "domain": [
          0,
          1
         ],
         "title": {
          "text": "Sample Values"
         }
        }
       }
      },
      "text/html": [
       "<div>                            <div id=\"9a13887f-c0db-4306-81b4-7ef8f9deb125\" class=\"plotly-graph-div\" style=\"height:525px; width:100%;\"></div>            <script type=\"text/javascript\">                require([\"plotly\"], function(Plotly) {                    window.PLOTLYENV=window.PLOTLYENV || {};                                    if (document.getElementById(\"9a13887f-c0db-4306-81b4-7ef8f9deb125\")) {                    Plotly.newPlot(                        \"9a13887f-c0db-4306-81b4-7ef8f9deb125\",                        [{\"hovertemplate\":\"<b>%{hovertext}</b><br><br>x=%{x}<br>y=%{y}<br>size=%{marker.size}<br>color=%{marker.color}<extra></extra>\",\"hovertext\":[\"Bacteria;Bacteroidetes;Bacteroidia;Bacteroidales;Porphyromonadaceae;Porphyromonas\",\"Bacteria;Firmicutes;Clostridia;Clostridiales;IncertaeSedisXI;Peptoniphilus\",\"Bacteria\",\"Bacteria;Firmicutes;Clostridia;Clostridiales;IncertaeSedisXI\",\"Bacteria\",\"Bacteria;Bacteroidetes;Bacteroidia;Bacteroidales;Porphyromonadaceae;Porphyromonas\",\"Bacteria\",\"Bacteria\",\"Bacteria;Firmicutes;Clostridia;Clostridiales;IncertaeSedisXI;Anaerococcus\",\"Bacteria;Firmicutes;Clostridia;Clostridiales\",\"Bacteria;Proteobacteria;Epsilonproteobacteria;Campylobacterales;Campylobacteraceae;Campylobacter\",\"Bacteria;Actinobacteria;Actinobacteria;Actinomycetales;Actinomycetaceae;Varibaculum\",\"Bacteria;Firmicutes;Clostridia\",\"Bacteria;Firmicutes;Clostridia;Clostridiales;IncertaeSedisXI\",\"Bacteria;Firmicutes;Clostridia\",\"Bacteria;Firmicutes;Clostridia;Clostridiales\",\"Bacteria;Firmicutes;Clostridia;Clostridiales;IncertaeSedisXI\",\"Bacteria;Actinobacteria;Actinobacteria;Actinomycetales;Corynebacteriaceae;Corynebacterium\",\"Bacteria;Firmicutes;Clostridia;Clostridiales;IncertaeSedisXI\",\"Bacteria;Firmicutes;Clostridia;Clostridiales;IncertaeSedisXI\",\"Bacteria;Firmicutes;Clostridia;Clostridiales\",\"Bacteria;Firmicutes;Clostridia;Clostridiales;IncertaeSedisXI;Anaerococcus\",\"Bacteria;Firmicutes;Clostridia;Clostridiales;IncertaeSedisXI;Peptoniphilus\",\"Bacteria\",\"Bacteria;Firmicutes;Clostridia;Clostridiales;IncertaeSedisXI;Peptoniphilus\",\"Bacteria;Firmicutes;Clostridia;Clostridiales;IncertaeSedisXI\",\"Bacteria;Firmicutes;Clostridia;Clostridiales\",\"Bacteria;Firmicutes;Clostridia;Clostridiales;IncertaeSedisXI;Anaerococcus\",\"Bacteria;Actinobacteria;Actinobacteria;Actinomycetales\",\"Bacteria;Firmicutes;Clostridia;Clostridiales;Veillonellaceae\",\"Bacteria;Firmicutes;Bacilli;Bacillales;Staphylococcaceae;Staphylococcus\",\"Bacteria;Firmicutes;Clostridia;Clostridiales;IncertaeSedisXI;Finegoldia\",\"Bacteria\",\"Bacteria;Firmicutes;Clostridia;Clostridiales\",\"Bacteria;Firmicutes;Clostridia;Clostridiales;Peptococcaceae;Peptococcus\",\"Bacteria;Bacteroidetes;Bacteroidia;Bacteroidales;Porphyromonadaceae;Porphyromonas\",\"Bacteria;Firmicutes;Clostridia;Clostridiales\",\"Bacteria;Bacteroidetes;Bacteroidia;Bacteroidales;Porphyromonadaceae;Porphyromonas\",\"Bacteria;Firmicutes;Clostridia;Clostridiales\",\"Bacteria;Bacteroidetes;Bacteroidia;Bacteroidales;Prevotellaceae\",\"Bacteria;Firmicutes;Clostridia;Clostridiales;IncertaeSedisXI;Gallicola\",\"Bacteria;Firmicutes;Clostridia;Clostridiales;IncertaeSedisXI;Gallicola\",\"Bacteria;Bacteroidetes;Bacteroidia;Bacteroidales;Prevotellaceae;Prevotella\",\"Bacteria;Firmicutes;Clostridia\",\"Bacteria;Firmicutes;Clostridia;Clostridiales;IncertaeSedisXI\",\"Bacteria;Firmicutes;Clostridia;Clostridiales;IncertaeSedisXI;Anaerococcus\",\"Bacteria;Firmicutes;Clostridia;Clostridiales;Ruminococcaceae\",\"Bacteria;Actinobacteria;Actinobacteria;Actinomycetales;Corynebacteriaceae\",\"Bacteria;Actinobacteria;Actinobacteria;Actinomycetales;Actinomycetaceae\",\"Bacteria;Firmicutes;Clostridia;Clostridiales;IncertaeSedisXI;Anaerococcus\",\"Bacteria;Firmicutes;Clostridia;Clostridiales;IncertaeSedisXI;Anaerococcus\",\"Bacteria;Firmicutes;Clostridia;Clostridiales;IncertaeSedisXI;Anaerococcus\",\"Bacteria;Firmicutes;Clostridia;Clostridiales;IncertaeSedisXI\",\"Bacteria\",\"Bacteria;Firmicutes;Clostridia;Clostridiales;IncertaeSedisXI;Anaerococcus\",\"Bacteria;Firmicutes;Clostridia;Clostridiales;IncertaeSedisXI;Anaerococcus\",\"Bacteria;Firmicutes;Clostridia;Clostridiales;IncertaeSedisXI;Anaerococcus\",\"Bacteria;Firmicutes;Clostridia;Clostridiales;IncertaeSedisXI;Anaerococcus\",\"Bacteria;Actinobacteria;Actinobacteria;Actinomycetales\",\"Bacteria\",\"Bacteria;Firmicutes\",\"Bacteria\",\"Bacteria\",\"Bacteria;Bacteroidetes;Bacteroidia;Bacteroidales;Porphyromonadaceae;Porphyromonas\",\"Bacteria\",\"Bacteria;Bacteroidetes;Bacteroidia;Bacteroidales;Porphyromonadaceae;Porphyromonas\",\"Bacteria;Firmicutes\",\"Bacteria;Firmicutes\",\"Bacteria;Firmicutes\",\"Bacteria\",\"Bacteria;Firmicutes;Clostridia;Clostridiales;IncertaeSedisXI\",\"Bacteria;Firmicutes;Clostridia\",\"Bacteria;Firmicutes;Clostridia\",\"Bacteria\",\"Bacteria;Firmicutes;Clostridia;Clostridiales\",\"Bacteria\",\"Bacteria;Firmicutes;Clostridia;Clostridiales\",\"Bacteria;Firmicutes;Clostridia;Clostridiales;IncertaeSedisXI\",\"Bacteria\",\"Bacteria\"],\"legendgroup\":\"\",\"marker\":{\"color\":[1167,2859,482,2264,41,1189,352,189,2318,1977,3450,874,1959,2191,1950,2077,2275,944,2184,2244,2024,2419,2811,165,2782,2247,2011,2396,830,2964,1795,2722,307,2178,2908,1193,2167,1208,2039,1274,2739,2737,1314,1962,2186,2335,2936,907,833,2483,2475,2491,2291,159,2571,2350,2342,2546,725,170,1505,513,259,1169,258,1232,1497,1498,1503,412,2235,1960,1968,121,2065,340,2110,2188,357,342],\"coloraxis\":\"coloraxis\",\"size\":[163,126,113,78,71,51,50,47,40,40,37,36,30,28,25,23,22,19,19,14,13,13,13,12,12,11,11,11,10,10,10,8,7,7,7,6,5,5,5,4,4,4,3,3,3,3,3,3,3,2,2,2,2,2,2,2,2,2,2,2,2,2,2,2,2,2,2,2,2,2,2,2,2,2,2,2,2,2,2,2],\"sizemode\":\"area\",\"sizeref\":0.04527777777777778,\"symbol\":\"circle\"},\"mode\":\"markers\",\"name\":\"\",\"orientation\":\"v\",\"showlegend\":false,\"x\":[1167,2859,482,2264,41,1189,352,189,2318,1977,3450,874,1959,2191,1950,2077,2275,944,2184,2244,2024,2419,2811,165,2782,2247,2011,2396,830,2964,1795,2722,307,2178,2908,1193,2167,1208,2039,1274,2739,2737,1314,1962,2186,2335,2936,907,833,2483,2475,2491,2291,159,2571,2350,2342,2546,725,170,1505,513,259,1169,258,1232,1497,1498,1503,412,2235,1960,1968,121,2065,340,2110,2188,357,342],\"xaxis\":\"x\",\"y\":[163,126,113,78,71,51,50,47,40,40,37,36,30,28,25,23,22,19,19,14,13,13,13,12,12,11,11,11,10,10,10,8,7,7,7,6,5,5,5,4,4,4,3,3,3,3,3,3,3,2,2,2,2,2,2,2,2,2,2,2,2,2,2,2,2,2,2,2,2,2,2,2,2,2,2,2,2,2,2,2],\"yaxis\":\"y\",\"type\":\"scatter\"}],                        {\"template\":{\"data\":{\"histogram2dcontour\":[{\"type\":\"histogram2dcontour\",\"colorbar\":{\"outlinewidth\":0,\"ticks\":\"\"},\"colorscale\":[[0.0,\"#0d0887\"],[0.1111111111111111,\"#46039f\"],[0.2222222222222222,\"#7201a8\"],[0.3333333333333333,\"#9c179e\"],[0.4444444444444444,\"#bd3786\"],[0.5555555555555556,\"#d8576b\"],[0.6666666666666666,\"#ed7953\"],[0.7777777777777778,\"#fb9f3a\"],[0.8888888888888888,\"#fdca26\"],[1.0,\"#f0f921\"]]}],\"choropleth\":[{\"type\":\"choropleth\",\"colorbar\":{\"outlinewidth\":0,\"ticks\":\"\"}}],\"histogram2d\":[{\"type\":\"histogram2d\",\"colorbar\":{\"outlinewidth\":0,\"ticks\":\"\"},\"colorscale\":[[0.0,\"#0d0887\"],[0.1111111111111111,\"#46039f\"],[0.2222222222222222,\"#7201a8\"],[0.3333333333333333,\"#9c179e\"],[0.4444444444444444,\"#bd3786\"],[0.5555555555555556,\"#d8576b\"],[0.6666666666666666,\"#ed7953\"],[0.7777777777777778,\"#fb9f3a\"],[0.8888888888888888,\"#fdca26\"],[1.0,\"#f0f921\"]]}],\"heatmap\":[{\"type\":\"heatmap\",\"colorbar\":{\"outlinewidth\":0,\"ticks\":\"\"},\"colorscale\":[[0.0,\"#0d0887\"],[0.1111111111111111,\"#46039f\"],[0.2222222222222222,\"#7201a8\"],[0.3333333333333333,\"#9c179e\"],[0.4444444444444444,\"#bd3786\"],[0.5555555555555556,\"#d8576b\"],[0.6666666666666666,\"#ed7953\"],[0.7777777777777778,\"#fb9f3a\"],[0.8888888888888888,\"#fdca26\"],[1.0,\"#f0f921\"]]}],\"heatmapgl\":[{\"type\":\"heatmapgl\",\"colorbar\":{\"outlinewidth\":0,\"ticks\":\"\"},\"colorscale\":[[0.0,\"#0d0887\"],[0.1111111111111111,\"#46039f\"],[0.2222222222222222,\"#7201a8\"],[0.3333333333333333,\"#9c179e\"],[0.4444444444444444,\"#bd3786\"],[0.5555555555555556,\"#d8576b\"],[0.6666666666666666,\"#ed7953\"],[0.7777777777777778,\"#fb9f3a\"],[0.8888888888888888,\"#fdca26\"],[1.0,\"#f0f921\"]]}],\"contourcarpet\":[{\"type\":\"contourcarpet\",\"colorbar\":{\"outlinewidth\":0,\"ticks\":\"\"}}],\"contour\":[{\"type\":\"contour\",\"colorbar\":{\"outlinewidth\":0,\"ticks\":\"\"},\"colorscale\":[[0.0,\"#0d0887\"],[0.1111111111111111,\"#46039f\"],[0.2222222222222222,\"#7201a8\"],[0.3333333333333333,\"#9c179e\"],[0.4444444444444444,\"#bd3786\"],[0.5555555555555556,\"#d8576b\"],[0.6666666666666666,\"#ed7953\"],[0.7777777777777778,\"#fb9f3a\"],[0.8888888888888888,\"#fdca26\"],[1.0,\"#f0f921\"]]}],\"surface\":[{\"type\":\"surface\",\"colorbar\":{\"outlinewidth\":0,\"ticks\":\"\"},\"colorscale\":[[0.0,\"#0d0887\"],[0.1111111111111111,\"#46039f\"],[0.2222222222222222,\"#7201a8\"],[0.3333333333333333,\"#9c179e\"],[0.4444444444444444,\"#bd3786\"],[0.5555555555555556,\"#d8576b\"],[0.6666666666666666,\"#ed7953\"],[0.7777777777777778,\"#fb9f3a\"],[0.8888888888888888,\"#fdca26\"],[1.0,\"#f0f921\"]]}],\"mesh3d\":[{\"type\":\"mesh3d\",\"colorbar\":{\"outlinewidth\":0,\"ticks\":\"\"}}],\"scatter\":[{\"fillpattern\":{\"fillmode\":\"overlay\",\"size\":10,\"solidity\":0.2},\"type\":\"scatter\"}],\"parcoords\":[{\"type\":\"parcoords\",\"line\":{\"colorbar\":{\"outlinewidth\":0,\"ticks\":\"\"}}}],\"scatterpolargl\":[{\"type\":\"scatterpolargl\",\"marker\":{\"colorbar\":{\"outlinewidth\":0,\"ticks\":\"\"}}}],\"bar\":[{\"error_x\":{\"color\":\"#2a3f5f\"},\"error_y\":{\"color\":\"#2a3f5f\"},\"marker\":{\"line\":{\"color\":\"#E5ECF6\",\"width\":0.5},\"pattern\":{\"fillmode\":\"overlay\",\"size\":10,\"solidity\":0.2}},\"type\":\"bar\"}],\"scattergeo\":[{\"type\":\"scattergeo\",\"marker\":{\"colorbar\":{\"outlinewidth\":0,\"ticks\":\"\"}}}],\"scatterpolar\":[{\"type\":\"scatterpolar\",\"marker\":{\"colorbar\":{\"outlinewidth\":0,\"ticks\":\"\"}}}],\"histogram\":[{\"marker\":{\"pattern\":{\"fillmode\":\"overlay\",\"size\":10,\"solidity\":0.2}},\"type\":\"histogram\"}],\"scattergl\":[{\"type\":\"scattergl\",\"marker\":{\"colorbar\":{\"outlinewidth\":0,\"ticks\":\"\"}}}],\"scatter3d\":[{\"type\":\"scatter3d\",\"line\":{\"colorbar\":{\"outlinewidth\":0,\"ticks\":\"\"}},\"marker\":{\"colorbar\":{\"outlinewidth\":0,\"ticks\":\"\"}}}],\"scattermapbox\":[{\"type\":\"scattermapbox\",\"marker\":{\"colorbar\":{\"outlinewidth\":0,\"ticks\":\"\"}}}],\"scatterternary\":[{\"type\":\"scatterternary\",\"marker\":{\"colorbar\":{\"outlinewidth\":0,\"ticks\":\"\"}}}],\"scattercarpet\":[{\"type\":\"scattercarpet\",\"marker\":{\"colorbar\":{\"outlinewidth\":0,\"ticks\":\"\"}}}],\"carpet\":[{\"aaxis\":{\"endlinecolor\":\"#2a3f5f\",\"gridcolor\":\"white\",\"linecolor\":\"white\",\"minorgridcolor\":\"white\",\"startlinecolor\":\"#2a3f5f\"},\"baxis\":{\"endlinecolor\":\"#2a3f5f\",\"gridcolor\":\"white\",\"linecolor\":\"white\",\"minorgridcolor\":\"white\",\"startlinecolor\":\"#2a3f5f\"},\"type\":\"carpet\"}],\"table\":[{\"cells\":{\"fill\":{\"color\":\"#EBF0F8\"},\"line\":{\"color\":\"white\"}},\"header\":{\"fill\":{\"color\":\"#C8D4E3\"},\"line\":{\"color\":\"white\"}},\"type\":\"table\"}],\"barpolar\":[{\"marker\":{\"line\":{\"color\":\"#E5ECF6\",\"width\":0.5},\"pattern\":{\"fillmode\":\"overlay\",\"size\":10,\"solidity\":0.2}},\"type\":\"barpolar\"}],\"pie\":[{\"automargin\":true,\"type\":\"pie\"}]},\"layout\":{\"autotypenumbers\":\"strict\",\"colorway\":[\"#636efa\",\"#EF553B\",\"#00cc96\",\"#ab63fa\",\"#FFA15A\",\"#19d3f3\",\"#FF6692\",\"#B6E880\",\"#FF97FF\",\"#FECB52\"],\"font\":{\"color\":\"#2a3f5f\"},\"hovermode\":\"closest\",\"hoverlabel\":{\"align\":\"left\"},\"paper_bgcolor\":\"white\",\"plot_bgcolor\":\"#E5ECF6\",\"polar\":{\"bgcolor\":\"#E5ECF6\",\"angularaxis\":{\"gridcolor\":\"white\",\"linecolor\":\"white\",\"ticks\":\"\"},\"radialaxis\":{\"gridcolor\":\"white\",\"linecolor\":\"white\",\"ticks\":\"\"}},\"ternary\":{\"bgcolor\":\"#E5ECF6\",\"aaxis\":{\"gridcolor\":\"white\",\"linecolor\":\"white\",\"ticks\":\"\"},\"baxis\":{\"gridcolor\":\"white\",\"linecolor\":\"white\",\"ticks\":\"\"},\"caxis\":{\"gridcolor\":\"white\",\"linecolor\":\"white\",\"ticks\":\"\"}},\"coloraxis\":{\"colorbar\":{\"outlinewidth\":0,\"ticks\":\"\"}},\"colorscale\":{\"sequential\":[[0.0,\"#0d0887\"],[0.1111111111111111,\"#46039f\"],[0.2222222222222222,\"#7201a8\"],[0.3333333333333333,\"#9c179e\"],[0.4444444444444444,\"#bd3786\"],[0.5555555555555556,\"#d8576b\"],[0.6666666666666666,\"#ed7953\"],[0.7777777777777778,\"#fb9f3a\"],[0.8888888888888888,\"#fdca26\"],[1.0,\"#f0f921\"]],\"sequentialminus\":[[0.0,\"#0d0887\"],[0.1111111111111111,\"#46039f\"],[0.2222222222222222,\"#7201a8\"],[0.3333333333333333,\"#9c179e\"],[0.4444444444444444,\"#bd3786\"],[0.5555555555555556,\"#d8576b\"],[0.6666666666666666,\"#ed7953\"],[0.7777777777777778,\"#fb9f3a\"],[0.8888888888888888,\"#fdca26\"],[1.0,\"#f0f921\"]],\"diverging\":[[0,\"#8e0152\"],[0.1,\"#c51b7d\"],[0.2,\"#de77ae\"],[0.3,\"#f1b6da\"],[0.4,\"#fde0ef\"],[0.5,\"#f7f7f7\"],[0.6,\"#e6f5d0\"],[0.7,\"#b8e186\"],[0.8,\"#7fbc41\"],[0.9,\"#4d9221\"],[1,\"#276419\"]]},\"xaxis\":{\"gridcolor\":\"white\",\"linecolor\":\"white\",\"ticks\":\"\",\"title\":{\"standoff\":15},\"zerolinecolor\":\"white\",\"automargin\":true,\"zerolinewidth\":2},\"yaxis\":{\"gridcolor\":\"white\",\"linecolor\":\"white\",\"ticks\":\"\",\"title\":{\"standoff\":15},\"zerolinecolor\":\"white\",\"automargin\":true,\"zerolinewidth\":2},\"scene\":{\"xaxis\":{\"backgroundcolor\":\"#E5ECF6\",\"gridcolor\":\"white\",\"linecolor\":\"white\",\"showbackground\":true,\"ticks\":\"\",\"zerolinecolor\":\"white\",\"gridwidth\":2},\"yaxis\":{\"backgroundcolor\":\"#E5ECF6\",\"gridcolor\":\"white\",\"linecolor\":\"white\",\"showbackground\":true,\"ticks\":\"\",\"zerolinecolor\":\"white\",\"gridwidth\":2},\"zaxis\":{\"backgroundcolor\":\"#E5ECF6\",\"gridcolor\":\"white\",\"linecolor\":\"white\",\"showbackground\":true,\"ticks\":\"\",\"zerolinecolor\":\"white\",\"gridwidth\":2}},\"shapedefaults\":{\"line\":{\"color\":\"#2a3f5f\"}},\"annotationdefaults\":{\"arrowcolor\":\"#2a3f5f\",\"arrowhead\":0,\"arrowwidth\":1},\"geo\":{\"bgcolor\":\"white\",\"landcolor\":\"#E5ECF6\",\"subunitcolor\":\"white\",\"showland\":true,\"showlakes\":true,\"lakecolor\":\"white\"},\"title\":{\"x\":0.05},\"mapbox\":{\"style\":\"light\"}}},\"xaxis\":{\"anchor\":\"y\",\"domain\":[0.0,1.0],\"title\":{\"text\":\"OTU ID\"}},\"yaxis\":{\"anchor\":\"x\",\"domain\":[0.0,1.0],\"title\":{\"text\":\"Sample Values\"}},\"coloraxis\":{\"colorbar\":{\"title\":{\"text\":\"color\"}},\"colorscale\":[[0.0,\"#0d0887\"],[0.1111111111111111,\"#46039f\"],[0.2222222222222222,\"#7201a8\"],[0.3333333333333333,\"#9c179e\"],[0.4444444444444444,\"#bd3786\"],[0.5555555555555556,\"#d8576b\"],[0.6666666666666666,\"#ed7953\"],[0.7777777777777778,\"#fb9f3a\"],[0.8888888888888888,\"#fdca26\"],[1.0,\"#f0f921\"]]},\"legend\":{\"tracegroupgap\":0,\"itemsizing\":\"constant\"},\"title\":{\"text\":\"Bubble Chart for Sample 940\"}},                        {\"responsive\": true}                    ).then(function(){\n",
       "                            \n",
       "var gd = document.getElementById('9a13887f-c0db-4306-81b4-7ef8f9deb125');\n",
       "var x = new MutationObserver(function (mutations, observer) {{\n",
       "        var display = window.getComputedStyle(gd).display;\n",
       "        if (!display || display === 'none') {{\n",
       "            console.log([gd, 'removed!']);\n",
       "            Plotly.purge(gd);\n",
       "            observer.disconnect();\n",
       "        }}\n",
       "}});\n",
       "\n",
       "// Listen for the removal of the full notebook cells\n",
       "var notebookContainer = gd.closest('#notebook-container');\n",
       "if (notebookContainer) {{\n",
       "    x.observe(notebookContainer, {childList: true});\n",
       "}}\n",
       "\n",
       "// Listen for the clearing of the current output cell\n",
       "var outputEl = gd.closest('.output');\n",
       "if (outputEl) {{\n",
       "    x.observe(outputEl, {childList: true});\n",
       "}}\n",
       "\n",
       "                        })                };                });            </script>        </div>"
      ]
     },
     "metadata": {},
     "output_type": "display_data"
    }
   ],
   "source": [
    "sample_data = data['samples'][0]\n",
    "otu_ids = sample_data['otu_ids']\n",
    "sample_values = sample_data['sample_values']\n",
    "otu_labels = sample_data['otu_labels']\n",
    "\n",
    "fig = px.scatter(x=otu_ids, y=sample_values,\n",
    "                 size=sample_values, color=otu_ids,\n",
    "                 hover_name=otu_labels, size_max=60,\n",
    "                 title=f\"Bubble Chart for Sample {sample_data['id']}\")\n",
    "fig.update_layout(xaxis_title=\"OTU ID\", yaxis_title=\"Sample Values\")\n",
    "fig.show()"
   ]
  },
  {
   "cell_type": "code",
   "execution_count": 39,
   "id": "4c414925",
   "metadata": {
    "scrolled": true
   },
   "outputs": [
    {
     "name": "stdout",
     "output_type": "stream",
     "text": [
      "Demographic Info:\n",
      "id: 940\n",
      "ethnicity: Caucasian\n",
      "gender: F\n",
      "age: 24.0\n",
      "location: Beaufort/NC\n",
      "bbtype: I\n",
      "wfreq: 2.0\n"
     ]
    }
   ],
   "source": [
    "# Display metadata for the first sample\n",
    "sample_metadata = data['metadata'][0]\n",
    "\n",
    "# Print each key-value pair in the metadata\n",
    "print(\"Demographic Info:\")\n",
    "for key, value in sample_metadata.items():\n",
    "    print(f\"{key}: {value}\")\n"
   ]
  },
  {
   "cell_type": "code",
   "execution_count": null,
   "id": "99e658ef",
   "metadata": {},
   "outputs": [],
   "source": []
  },
  {
   "cell_type": "code",
   "execution_count": null,
   "id": "07eae8bf",
   "metadata": {},
   "outputs": [],
   "source": []
  }
 ],
 "metadata": {
  "kernelspec": {
   "display_name": "Python 3 (ipykernel)",
   "language": "python",
   "name": "python3"
  },
  "language_info": {
   "codemirror_mode": {
    "name": "ipython",
    "version": 3
   },
   "file_extension": ".py",
   "mimetype": "text/x-python",
   "name": "python",
   "nbconvert_exporter": "python",
   "pygments_lexer": "ipython3",
   "version": "3.11.4"
  }
 },
 "nbformat": 4,
 "nbformat_minor": 5
}
